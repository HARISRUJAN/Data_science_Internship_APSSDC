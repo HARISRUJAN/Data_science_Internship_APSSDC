{
 "cells": [
  {
   "cell_type": "code",
   "execution_count": 3,
   "metadata": {
    "scrolled": false
   },
   "outputs": [
    {
     "name": "stdout",
     "output_type": "stream",
     "text": [
      "Hello World\n"
     ]
    }
   ],
   "source": [
    "print(\"Hello World\")"
   ]
  },
  {
   "cell_type": "code",
   "execution_count": 4,
   "metadata": {},
   "outputs": [
    {
     "name": "stdout",
     "output_type": "stream",
     "text": [
      "Hello World again\n"
     ]
    }
   ],
   "source": [
    "print(\"Hello World again\")"
   ]
  },
  {
   "cell_type": "markdown",
   "metadata": {},
   "source": [
    "html -> Hyper Text Markup Language\n",
    "\n",
    "Markdown"
   ]
  },
  {
   "cell_type": "markdown",
   "metadata": {},
   "source": [
    "# Markdown Syntax\n",
    "\n",
    "## Heading2\n",
    "### Heading3\n",
    "#### Heading4\n",
    "##### Heading5\n",
    "###### Heading6\n",
    "\n",
    "<h1>Markdown Syntax</h1>"
   ]
  },
  {
   "cell_type": "markdown",
   "metadata": {},
   "source": [
    "## Shortcuts for Jupyter Notebook\n",
    "\n",
    "\n",
    "1. ShiftEnter -> For Execuiting the Current Cell\n",
    "2. EscA -> For inserting new cell above the current cell\n",
    "3. EscB -> For inserting new cell below the current cell\n",
    "4. ESCM -> Converting Code cell to the Markdown Cell\n",
    "5. ESCY -> Converting Markdown cell to the Code Cell\n",
    "6. ESCDD -> Delete the Current Cell\n",
    "7. ESCL -> for Toggling the Current Cell Line Numbers\n",
    "8. Ctrl+S -> Saving the Notebook"
   ]
  },
  {
   "cell_type": "markdown",
   "metadata": {},
   "source": [
    "- Python is ease to learn\n",
    "- Python is easy to write\n",
    "* Python is open source\n",
    "+ Python is high level Programming language\n",
    "    - High level means user understandable language\n",
    "        * Which is in english\n",
    "            - Sub\n",
    "                - Sub\n",
    "            - Sub2\n",
    "        - Languange\n",
    "    - Interpeter\n",
    "- Also it is object oriented"
   ]
  },
  {
   "cell_type": "markdown",
   "metadata": {},
   "source": [
    "1. Main Point\n",
    "    1. Sub Point\n",
    "        1. Sub Sub Point1\n",
    "       \n",
    "    2. Sub Point2"
   ]
  },
  {
   "cell_type": "markdown",
   "metadata": {},
   "source": [
    "### Font Styles\n",
    "\n",
    "- I'm in **Bold** font style\n",
    "- I'm also in __Bold__ font style\n",
    "- I'm in *Italitic* font style\n",
    "- I'm also in _Italitic_ font style\n",
    "- I'm in both ***Italic and Bold*** fint style\n",
    "- I'm in both ___Italic and Bold___ fint style\n",
    "- I'm ~strike offed~\n",
    "- I'm ~**strike offed and bold**~\n",
    "- I'm ~***strike offed, bold and italic***~"
   ]
  },
  {
   "cell_type": "markdown",
   "metadata": {},
   "source": [
    "### Insert Image\n",
    "\n",
    "\n",
    "#### Syntax ![Image Description](image path)\n",
    "\n",
    "\n",
    "![Python Logo](https://www.python.org/static/community_logos/python-logo-master-v3-TM-flattened.png)\n",
    "\n",
    "\n",
    "![Python Logo](../images/python-logo.png)"
   ]
  },
  {
   "cell_type": "markdown",
   "metadata": {},
   "source": [
    "#### Inserting Hyper Link\n",
    "\n",
    "#### [Some Description]\\(Link)\n",
    "\n",
    "\n",
    "[Click Here to View Python Logo](https://www.python.org/static/community_logos/python-logo-master-v3-TM-flattened.png)\n",
    "\n",
    "\n",
    "https://www.python.org/static/community_logos/python-logo-master-v3-TM-flattened.png"
   ]
  },
  {
   "cell_type": "markdown",
   "metadata": {},
   "source": [
    "### Tabular data\n",
    "\n",
    "\n",
    "|Name|RollNo|EmailId|\n",
    "|-----|------|-------|\n",
    "|Std1|Roll1|Email1|\n",
    "|~Std2~|[roll2](link)|Email2|\n",
    "|***Std2***|**roll2**|*Email2*|\n",
    "|Suresh|123|suresh@gmail.com|"
   ]
  },
  {
   "cell_type": "markdown",
   "metadata": {},
   "source": [
    "#### Inserting code\n",
    "\n",
    "#### C code for Hello World\n",
    "```c\n",
    "#include<stdio.h>\n",
    "int main()\n",
    "{\n",
    "    printf(\"Hello World\");\n",
    "}\n",
    "```\n",
    "\n",
    "#### python code for Hello World\n",
    "```python\n",
    "print(\"Hello World\")\n",
    "```\n",
    "\n",
    "#### HTML Code\n",
    "```html\n",
    "<h1>Heading</h1>\n",
    "```"
   ]
  },
  {
   "cell_type": "markdown",
   "metadata": {},
   "source": [
    "### Quotes\n",
    "\n",
    "Normal Data\n",
    "\n",
    "> Sun rises in the East\n",
    "\n",
    "Normal Data\n",
    "\n",
    "\n",
    "Python is `easy` to learn"
   ]
  },
  {
   "cell_type": "markdown",
   "metadata": {},
   "source": [
    "### Mathematical Formulae\n",
    "\n",
    "\n",
    "# $$(a + b)^2 = a^2 +  2*a*b + b^2$$\n",
    "\n",
    "\n",
    "a + b whole square formulae is $(a_1 + b_1)^2 = {a_1}^2 +  2*a_1*b_1 + {b_1}^2$\n",
    "\n",
    "\n",
    "$\\alpha + \\beta + \\gamma + \\kappa + \\lambda + \\iota + \\delta$\n",
    "\n",
    "### $$\\frac{a}{b}$$\n",
    "\n",
    "$$\\begin{pmatrix} a & b \\\\ c & d \\end{pmatrix}$$"
   ]
  }
 ],
 "metadata": {
  "kernelspec": {
   "display_name": "Python 3",
   "language": "python",
   "name": "python3"
  },
  "language_info": {
   "codemirror_mode": {
    "name": "ipython",
    "version": 3
   },
   "file_extension": ".py",
   "mimetype": "text/x-python",
   "name": "python",
   "nbconvert_exporter": "python",
   "pygments_lexer": "ipython3",
   "version": "3.8.8"
  }
 },
 "nbformat": 4,
 "nbformat_minor": 4
}
